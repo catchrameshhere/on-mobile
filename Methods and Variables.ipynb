{
 "cells": [
  {
   "cell_type": "code",
   "execution_count": null,
   "id": "03d27729-c348-4dd9-a6df-acec3b60de4b",
   "metadata": {},
   "outputs": [],
   "source": [
    "# Scripting level approach - Step by step execution\n",
    "\n",
    "a = 10\n",
    "b = 20\n",
    "c = a+b\n",
    "print(\"the sum of two numbers is - \", c)"
   ]
  },
  {
   "cell_type": "code",
   "execution_count": null,
   "id": "02c3e2cb-fa52-4355-b7a0-c094f708a338",
   "metadata": {},
   "outputs": [],
   "source": [
    "# Scripting level approach - Step by step execution\n",
    "\n",
    "a = 10\n",
    "b = 20\n",
    "\n",
    "print(\"the sum of two numbers is - \", a+b)"
   ]
  },
  {
   "cell_type": "code",
   "execution_count": null,
   "id": "97be2743-5e94-4b75-bd81-e5c77f02f51a",
   "metadata": {},
   "outputs": [],
   "source": [
    "# Scripting level approach - Step by step execution\n",
    "print(\"the sum of two numbers is - \", 10+20)"
   ]
  },
  {
   "cell_type": "code",
   "execution_count": null,
   "id": "91666661-c16e-4152-88da-77dbb8159512",
   "metadata": {},
   "outputs": [],
   "source": [
    "# Programming approach\n",
    "\n",
    "def add(): # method declaration\n",
    "    a = 10\n",
    "    b = 20\n",
    "    c = a + b\n",
    "    print(\"Sum of two numbers = \", c)\n",
    "    \n",
    "\n",
    "add()\n",
    "    "
   ]
  },
  {
   "cell_type": "code",
   "execution_count": null,
   "id": "0024f756-76de-47b9-a322-72fbc23fad2c",
   "metadata": {},
   "outputs": [],
   "source": [
    "# Programming approach\n",
    "\n",
    "def add(a, b): # method declaration\n",
    "    print('The value of a is ', a)\n",
    "    print('The value of b is ', b)\n",
    "    c = a + b\n",
    "    print(\"Sum of two numbers = \", c)\n",
    "    \n",
    "\n",
    "# add(45,66)\n",
    "# add(a=45, b=35)\n",
    "add(b=450, a=35)"
   ]
  },
  {
   "cell_type": "code",
   "execution_count": null,
   "id": "fd532b96-34b4-4214-b2d6-90da42b3e77d",
   "metadata": {},
   "outputs": [],
   "source": [
    "# Programming approach\n",
    "\n",
    "def add(a, b): # method declaration\n",
    "    print(\"Sum of two numbers = \", a+b)\n",
    "    \n",
    "\n",
    "# add(45,66)\n",
    "# add(a=45, b=35)\n",
    "add(b=450, a=35)"
   ]
  },
  {
   "cell_type": "code",
   "execution_count": null,
   "id": "9c4a540b-728b-4c8c-aacb-a636ea18a19e",
   "metadata": {},
   "outputs": [],
   "source": [
    "# without argument and without return type\n",
    "\n",
    "def add():\n",
    "    a = 10\n",
    "    b = 20\n",
    "    result = a + b\n",
    "    print('Sum of the two numbers is ', result)\n",
    "\n",
    "add()"
   ]
  },
  {
   "cell_type": "code",
   "execution_count": null,
   "id": "43597acc-a46d-4a6c-b5f6-ae697350f4bd",
   "metadata": {},
   "outputs": [],
   "source": [
    "# with argument and without return type\n",
    "\n",
    "def add(a, b):\n",
    "    result = a + b\n",
    "    print('Sum of the two numbers is ', result)\n",
    "\n",
    "# add(25,56)\n",
    "# add(a=55, b=45)\n",
    "# add(b=55, a=45)"
   ]
  },
  {
   "cell_type": "code",
   "execution_count": null,
   "id": "19f0c23f-cf95-498e-b567-1b6fa559dc8c",
   "metadata": {},
   "outputs": [],
   "source": [
    "# with argument and with return type\n",
    "\n",
    "def add(a, b):\n",
    "    # result = a + b\n",
    "    # return result\n",
    "    \n",
    "    return a + b\n",
    "\n",
    "# print(add(25,56))\n",
    "\n",
    "sum = add(25,35)\n",
    "print(sum)\n",
    "\n",
    "print('done')"
   ]
  },
  {
   "cell_type": "code",
   "execution_count": null,
   "id": "0232d431-88cb-421a-9a91-1de7d8b32c89",
   "metadata": {},
   "outputs": [],
   "source": [
    "# without argument and with return type\n",
    "\n",
    "def currentYear():\n",
    "    return 2022\n",
    "\n",
    "# print(add(25,56))\n",
    "\n",
    "cy = currentYear()\n",
    "print(cy)\n",
    "\n",
    "print('done')"
   ]
  },
  {
   "cell_type": "code",
   "execution_count": null,
   "id": "dbc47589-ad01-4f72-b4ba-9eabf3d76c53",
   "metadata": {},
   "outputs": [],
   "source": [
    "def add():\n",
    "    a = 10\n",
    "    b = 10\n",
    "    return a+b\n",
    "\n",
    "# sum = add()\n",
    "# print(sum)\n",
    "\n",
    "print(add())"
   ]
  },
  {
   "cell_type": "code",
   "execution_count": null,
   "id": "23ae91fe-9f9f-44ab-9a0d-ce409ff0bc93",
   "metadata": {},
   "outputs": [],
   "source": [
    "# Local variable\n",
    "\n",
    "def m1():\n",
    "    age = 25 #Local variable\n",
    "    print('age from m1 -',age)\n",
    "    \n",
    "def m2():\n",
    "    print('age from m2 -',age) #Throws error in this line\n",
    "    \n",
    "\n",
    "m1()\n",
    "m2() # Throws error"
   ]
  },
  {
   "cell_type": "code",
   "execution_count": null,
   "id": "d77f975f-e51e-438d-bdf3-008901219a8b",
   "metadata": {},
   "outputs": [],
   "source": [
    "# Global variable\n",
    "\n",
    "age = 35 #Global variable\n",
    "\n",
    "def m1():\n",
    "    print('age from m1 -', age)\n",
    "    \n",
    "def m2():\n",
    "    print('age from m2 -', age)\n",
    "    \n",
    "\n",
    "m1()\n",
    "m2()\n",
    "print(age)"
   ]
  },
  {
   "cell_type": "code",
   "execution_count": null,
   "id": "caf4a486-3aea-4087-8666-523e001ba8b9",
   "metadata": {},
   "outputs": [],
   "source": [
    "# Global variable\n",
    "\n",
    "def m1():\n",
    "    global age #Global variable\n",
    "    age = 35 \n",
    "    print('age from m1 -', age)\n",
    "    \n",
    "def m2():\n",
    "    print('age from m2 -', age)\n",
    "    \n",
    "\n",
    "m1()\n",
    "m2()\n",
    "print(age)"
   ]
  },
  {
   "cell_type": "code",
   "execution_count": null,
   "id": "d53fbb30-72c6-46b7-8cd8-1c1d642dfe8c",
   "metadata": {},
   "outputs": [],
   "source": [
    "def add(b,a=2):\n",
    "    print(a+b)\n",
    "    \n",
    "add(5)"
   ]
  },
  {
   "cell_type": "code",
   "execution_count": null,
   "id": "9d6b5cc8-69c5-41b6-9077-3a9bf5eb2faa",
   "metadata": {},
   "outputs": [],
   "source": [
    "def login(username, password, otp=None):\n",
    "    print('username = ', username)\n",
    "    print('password = ', password)\n",
    "    if otp == None:\n",
    "        print('No OTP provided')\n",
    "    else:\n",
    "        print('OTP = ', otp)\n",
    "        \n",
    "# login('ramesh', 'test1234')\n",
    "login('ramesh', 'test1234', 56983)"
   ]
  },
  {
   "cell_type": "code",
   "execution_count": null,
   "id": "bea006f2-0847-4f45-9f2a-72851226eb10",
   "metadata": {},
   "outputs": [],
   "source": [
    "def m1(a):\n",
    "    for i in a:\n",
    "        print(i)\n",
    "\n",
    "def m2(a):\n",
    "    z = a.keys()\n",
    "    for i in z:\n",
    "        print(a.get(i))\n",
    "        \n",
    "# x = (34,45,67) #tuple\n",
    "# x = [22,33,44,55] #List\n",
    "# x = {55,67,89} #set\n",
    "# m1(x)\n",
    "\n",
    "y = {'fn':'John', 'ln':'Rambo'}\n",
    "m2(y)"
   ]
  },
  {
   "cell_type": "code",
   "execution_count": null,
   "id": "47f70121-35a2-465c-9a04-5561ad1f175c",
   "metadata": {},
   "outputs": [],
   "source": [
    "def add(a, b):\n",
    "    print(a+b)\n",
    "    \n",
    "add(2,3)"
   ]
  },
  {
   "cell_type": "code",
   "execution_count": null,
   "id": "f554770d-49d8-4d5f-99fd-a8f20df09f4c",
   "metadata": {},
   "outputs": [],
   "source": [
    "def add(*num):\n",
    "    \n",
    "    result = 0\n",
    "    \n",
    "    for i in num:\n",
    "        result += i\n",
    "    \n",
    "    print(\"Sum of the numbers = \", result)\n",
    "\n",
    "\n",
    "add(2,3,4)"
   ]
  },
  {
   "cell_type": "code",
   "execution_count": null,
   "id": "b63686cc-773d-4aae-bd45-86cb592b5685",
   "metadata": {},
   "outputs": [],
   "source": [
    "def m1(**kwargs):\n",
    "       \n",
    "    for key,value in kwargs.items():\n",
    "        print('{} = {}'.format(key,value))\n",
    "\n",
    "m1(fn='John', ln='Rambo')"
   ]
  },
  {
   "cell_type": "code",
   "execution_count": null,
   "id": "54dcf92e-336a-4be5-a282-13f8e0c57a41",
   "metadata": {},
   "outputs": [],
   "source": [
    "def m1(a, b, *args, **kwargs):\n",
    "    pass"
   ]
  },
  {
   "cell_type": "code",
   "execution_count": null,
   "id": "9469fc6d-d9cb-4884-95dc-4563ebe92c60",
   "metadata": {},
   "outputs": [],
   "source": [
    "def m1(a):\n",
    "    print(2**a)\n",
    "\n",
    "    \n",
    "m1(3)"
   ]
  },
  {
   "cell_type": "code",
   "execution_count": null,
   "id": "235d83e0-b534-4bd8-a560-ed1c6e39906b",
   "metadata": {},
   "outputs": [],
   "source": [
    "# lambda\n",
    "\"\"\"\n",
    "lambda function is a small anonymous function\n",
    "input arguments(n number) and perform and return the result\n",
    "syntax:\n",
    "    lambda arguments: expression\n",
    "\"\"\"\n",
    "\n",
    "x = lambda a: 2**a\n",
    "print(x(3))"
   ]
  },
  {
   "cell_type": "code",
   "execution_count": null,
   "id": "68c67419-ab3b-4ad2-99d7-d6854498a9a1",
   "metadata": {},
   "outputs": [],
   "source": [
    "x = lambda a,b: a+b\n",
    "print(x(2,4))\n"
   ]
  },
  {
   "cell_type": "code",
   "execution_count": null,
   "id": "fdc07648-1d2c-4fdb-acad-9494844129e6",
   "metadata": {},
   "outputs": [],
   "source": [
    "def m1(a, b, c):\n",
    "    return lambda a, b, c: a+b+c\n",
    "\n",
    "x = m1(1,2,3)\n",
    "print(x(4,5,6))"
   ]
  },
  {
   "cell_type": "code",
   "execution_count": null,
   "id": "243a5d24-af0d-45d0-ba46-22a0b2e45a60",
   "metadata": {},
   "outputs": [],
   "source": [
    "mx = lambda a,b: a if(a>b) else b\n",
    "\n",
    "print(mx(5,8))"
   ]
  },
  {
   "cell_type": "code",
   "execution_count": null,
   "id": "b1635f94-552a-4381-8231-a5a550a7326b",
   "metadata": {},
   "outputs": [],
   "source": [
    "def m1(a,b):\n",
    "    if(a>b):\n",
    "        return a\n",
    "    else:\n",
    "        return b"
   ]
  },
  {
   "cell_type": "code",
   "execution_count": null,
   "id": "c15a028f-3c5d-4355-80b8-5495214b277a",
   "metadata": {},
   "outputs": [],
   "source": [
    "# Generators\n",
    "\n",
    "def m1():\n",
    "    for i in range(6):\n",
    "        yield i\n",
    "    print(\"I am done\")\n",
    "    \n",
    "a = m1()\n",
    "for x in a:\n",
    "    print(x)\n",
    "    \n",
    "    "
   ]
  },
  {
   "cell_type": "code",
   "execution_count": null,
   "id": "7a02d9f2-4e9c-4296-ad8b-a9f7461dce78",
   "metadata": {},
   "outputs": [],
   "source": [
    "def test():\n",
    "    yield 25\n",
    "    print(\"ramesh\")\n",
    "    yield 26\n",
    "    print(\"done\")\n",
    "    \n",
    "a = test()\n",
    "for i in a:\n",
    "    print(i)"
   ]
  },
  {
   "cell_type": "code",
   "execution_count": null,
   "id": "c6204bdd-25cf-424b-91d1-d853f77230e3",
   "metadata": {},
   "outputs": [],
   "source": []
  },
  {
   "cell_type": "code",
   "execution_count": 2,
   "id": "9ef4fa9a-77e2-4285-b762-a0b176057844",
   "metadata": {},
   "outputs": [
    {
     "name": "stdout",
     "output_type": "stream",
     "text": [
      "second call -  HTTPMtAsyncDefault-1:MTPoller\n",
      "second call -  Thread-48\n",
      "second call -  http-nio-3456-exec-1\n",
      "second call -  http-nio-3456-exec-1\n",
      "second call -  http-nio-3456-exec-1\n",
      "second call -  http-nio-3456-exec-1\n",
      "second call -  task-scheduler-10\n",
      "second call -  task-scheduler-10\n",
      "second call -  task-scheduler-10\n",
      "second call -  task-scheduler-9\n",
      "second call -  task-scheduler-10\n",
      "second call -  task-scheduler-9\n",
      "done with the statement\n"
     ]
    }
   ],
   "source": [
    "def get_thread_names():\n",
    "    with open('rahul.txt', 'r') as f:\n",
    "        lines = f.readlines()\n",
    "        for line in lines:\n",
    "            yield line.strip()\n",
    "    f.close()\n",
    "    print(\"done with the statement\")\n",
    "\n",
    "for x in get_thread_names():\n",
    "    print(\"second call - \",x)"
   ]
  },
  {
   "cell_type": "code",
   "execution_count": null,
   "id": "fc2c1fa6-88dd-4871-8863-e386f51b075a",
   "metadata": {},
   "outputs": [],
   "source": [
    "def m1():\n",
    "    for i in range(6):\n",
    "        print(\"from m1 - \",i)\n",
    "        yield(i)\n",
    "    print(\"I am done\")\n",
    "    \n",
    "for x in m1():\n",
    "    print(\"from outside - \" ,x)\n",
    "    \n",
    "print(\"done\")"
   ]
  },
  {
   "cell_type": "code",
   "execution_count": null,
   "id": "c7b0374f-8efd-44c4-9644-a6b378091a35",
   "metadata": {},
   "outputs": [],
   "source": [
    "import "
   ]
  }
 ],
 "metadata": {
  "kernelspec": {
   "display_name": "Python 3 (ipykernel)",
   "language": "python",
   "name": "python3"
  },
  "language_info": {
   "codemirror_mode": {
    "name": "ipython",
    "version": 3
   },
   "file_extension": ".py",
   "mimetype": "text/x-python",
   "name": "python",
   "nbconvert_exporter": "python",
   "pygments_lexer": "ipython3",
   "version": "3.10.0"
  }
 },
 "nbformat": 4,
 "nbformat_minor": 5
}
