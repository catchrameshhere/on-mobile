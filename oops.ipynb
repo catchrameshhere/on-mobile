{
 "cells": [
  {
   "cell_type": "code",
   "execution_count": 1,
   "id": "e2cededd-838d-4d3a-a1a0-d4594bbd8fd3",
   "metadata": {},
   "outputs": [
    {
     "name": "stdout",
     "output_type": "stream",
     "text": [
      "Sum =  15\n"
     ]
    }
   ],
   "source": [
    "# proceedural\n",
    "\n",
    "a = 5\n",
    "b = 10\n",
    "result = a + b\n",
    "print(\"Sum = \", result)"
   ]
  },
  {
   "cell_type": "code",
   "execution_count": 2,
   "id": "ef00871e-07ba-4355-a8bd-49d5d192326a",
   "metadata": {},
   "outputs": [
    {
     "name": "stdout",
     "output_type": "stream",
     "text": [
      "Sum =  15\n"
     ]
    }
   ],
   "source": [
    "# programming\n",
    "\n",
    "def add():\n",
    "    a = 5\n",
    "    b = 10\n",
    "    result = a + b\n",
    "    print(\"Sum = \", result)\n",
    "    \n",
    "add()"
   ]
  },
  {
   "cell_type": "code",
   "execution_count": 7,
   "id": "fcd9a48d-0b75-4972-bba1-889cb15e1d82",
   "metadata": {},
   "outputs": [],
   "source": [
    "# class defn\n",
    "class Student:\n",
    "    def m1():\n",
    "        pass\n",
    "\n",
    "# creating an object of the class\n",
    "ramesh = Student()\n",
    "suresh = Student()\n"
   ]
  },
  {
   "cell_type": "code",
   "execution_count": null,
   "id": "d364f0ec-c57d-4704-bd0c-da9cc8da9955",
   "metadata": {},
   "outputs": [],
   "source": [
    "# class defn\n",
    "# this is an function\n",
    "def test():\n",
    "    print('this is from test method')\n",
    "\n",
    "\n",
    "class Student:\n",
    "    # this is a method\n",
    "    def m1(self):\n",
    "        print('hello there')\n",
    "\n",
    "    def m2(self):\n",
    "        print('from m2 - hello there')\n",
    "\n",
    "\n",
    "# creating an object of the class\n",
    "# ramesh = Student()\n",
    "# ramesh.m1()\n",
    "#\n",
    "# test()\n",
    "\n",
    "if __name__ == '__main__':\n",
    "    s1 = Student()\n",
    "    s1.m1()"
   ]
  }
 ],
 "metadata": {
  "kernelspec": {
   "display_name": "Python 3 (ipykernel)",
   "language": "python",
   "name": "python3"
  },
  "language_info": {
   "codemirror_mode": {
    "name": "ipython",
    "version": 3
   },
   "file_extension": ".py",
   "mimetype": "text/x-python",
   "name": "python",
   "nbconvert_exporter": "python",
   "pygments_lexer": "ipython3",
   "version": "3.10.0"
  }
 },
 "nbformat": 4,
 "nbformat_minor": 5
}
