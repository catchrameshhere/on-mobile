{
 "cells": [
  {
   "cell_type": "code",
   "execution_count": null,
   "id": "3b76b6ca-6140-4252-b46d-4e53f3d28a6f",
   "metadata": {},
   "outputs": [],
   "source": [
    "2+2"
   ]
  },
  {
   "cell_type": "code",
   "execution_count": null,
   "id": "9801dce3-1b23-4a14-9a4d-955497eadc48",
   "metadata": {},
   "outputs": [],
   "source": [
    "### Arithmatic operations\n",
    "a = 10\n",
    "b = 3\n",
    "d = 2\n",
    "\n",
    "# a+b\n",
    "# a-b\n",
    "# a*b\n",
    "# a/b #gives the float output\n",
    "# 10%2 #gives the remainder\n",
    "# 10%3 \n",
    "# 10//3 # gives the int output\n",
    "4**5 #gives the power output"
   ]
  },
  {
   "cell_type": "code",
   "execution_count": null,
   "id": "1787b9d1-9d43-4ec4-acac-7e77ebe0972f",
   "metadata": {},
   "outputs": [],
   "source": [
    "print(\"hello world\\n\" * 5)"
   ]
  },
  {
   "cell_type": "code",
   "execution_count": null,
   "id": "6ac2718e-04d3-4685-8de2-6bbc8c6b1a7b",
   "metadata": {},
   "outputs": [],
   "source": [
    "a = [2,3,4]"
   ]
  },
  {
   "cell_type": "code",
   "execution_count": null,
   "id": "871895df-5b8a-4d29-aa15-507ca3b31752",
   "metadata": {},
   "outputs": [],
   "source": [
    "a*5"
   ]
  },
  {
   "cell_type": "code",
   "execution_count": 45,
   "id": "7a9b65cb-beb6-4395-a813-4a9ff6661443",
   "metadata": {},
   "outputs": [
    {
     "data": {
      "text/plain": [
       "{2, 3, 5}"
      ]
     },
     "execution_count": 45,
     "metadata": {},
     "output_type": "execute_result"
    }
   ],
   "source": [
    "a = {2,2,3,5,2}\n",
    "a"
   ]
  },
  {
   "cell_type": "code",
   "execution_count": 48,
   "id": "ad1d229f-ec1d-4a88-a759-830698bae79a",
   "metadata": {},
   "outputs": [
    {
     "data": {
      "text/plain": [
       "{'fn': 'Obama', 'ln': 'Rambo'}"
      ]
     },
     "execution_count": 48,
     "metadata": {},
     "output_type": "execute_result"
    }
   ],
   "source": [
    "john = {'fn':'John', 'ln':'Rambo', 'fn':'Obama'}\n",
    "john"
   ]
  },
  {
   "cell_type": "code",
   "execution_count": 58,
   "id": "d28c6586-bc59-4108-85df-bd19c72caadd",
   "metadata": {},
   "outputs": [
    {
     "data": {
      "text/plain": [
       "True"
      ]
     },
     "execution_count": 58,
     "metadata": {},
     "output_type": "execute_result"
    }
   ],
   "source": [
    "# Comparision operators\n",
    "\n",
    "# 2<1\n",
    "a = 4\n",
    "b = 10\n",
    "# a < 5\n",
    "# a < b\n",
    "# a > 2\n",
    "# a == 15\n",
    "# a != 15\n",
    "# a <= 10\n",
    "# a >= 2"
   ]
  },
  {
   "cell_type": "code",
   "execution_count": 62,
   "id": "091bf1d8-2c4f-4afc-8498-4143af0b128d",
   "metadata": {},
   "outputs": [
    {
     "name": "stdout",
     "output_type": "stream",
     "text": [
      "True\n"
     ]
    }
   ],
   "source": [
    "# membership\n",
    "a = (1,25,56,45,89,96,78)\n",
    "# print(45 in a)\n",
    "print(5 not in a)\n"
   ]
  },
  {
   "cell_type": "code",
   "execution_count": 64,
   "id": "330eff0b-681c-4ae3-bc3e-a896434b5f35",
   "metadata": {},
   "outputs": [
    {
     "name": "stdout",
     "output_type": "stream",
     "text": [
      "25 is present - True\n",
      "15 is present - True\n",
      "13 is present - False\n",
      "66 is present - False\n"
     ]
    }
   ],
   "source": [
    "a = (25,15,13,66)\n",
    "b = (1,2,3,4,5,6,7,8,9,10,11,12,14,15,16,17,18,19,20,21,22,23,24,25,26,27,28,29,30)\n",
    "\n",
    "for x in a:\n",
    "    print(\"{} is present - {}\".format(x, x in b))"
   ]
  },
  {
   "cell_type": "code",
   "execution_count": 77,
   "id": "099e7b44-cf83-48fe-b10e-0979cdf24b0d",
   "metadata": {},
   "outputs": [
    {
     "data": {
      "text/plain": [
       "1"
      ]
     },
     "execution_count": 77,
     "metadata": {},
     "output_type": "execute_result"
    }
   ],
   "source": [
    "#Assignment operator\n",
    "a = 45\n",
    "\n",
    "# a = a + 5\n",
    "# a += 10\n",
    "# a -= 5\n",
    "# a*=2\n",
    "# a/=5\n",
    "# a**=5\n",
    "# a%=2\n",
    "\n",
    "a"
   ]
  },
  {
   "cell_type": "code",
   "execution_count": 84,
   "id": "4603578a-a5e0-4448-bc48-7e1f6e2219b1",
   "metadata": {},
   "outputs": [
    {
     "name": "stdout",
     "output_type": "stream",
     "text": [
      "True\n"
     ]
    }
   ],
   "source": [
    "#Logical operator\n",
    "a = 5\n",
    "b = 20\n",
    "\n",
    "#and ==> lhs and rhs ==> true\n",
    "# print(a>0 and a<=10)\n",
    "# print(a>0 and b<30)\n",
    "\n",
    "#or ==> lhs or rhs ==> true\n",
    "# print(a>0 or a<=0)\n",
    "print(a>0 or b<15)"
   ]
  },
  {
   "cell_type": "code",
   "execution_count": 97,
   "id": "9210f227-dafc-4cfb-808b-6f10d37494a7",
   "metadata": {},
   "outputs": [
    {
     "name": "stdout",
     "output_type": "stream",
     "text": [
      "True\n"
     ]
    }
   ],
   "source": [
    "#identity operator\n",
    "# a = 5\n",
    "# b = 5\n",
    "\n",
    "# print(id(a))\n",
    "# print(id(b))\n",
    "# print(a is b)\n",
    "# print(a is not b)\n",
    "\n",
    "\n",
    "#For doing object comparision always associate with instance\n",
    "x = 'john'\n",
    "print(isinstance(x, str))\n"
   ]
  },
  {
   "cell_type": "code",
   "execution_count": null,
   "id": "bdd7a981-5900-4868-8073-35077b73242b",
   "metadata": {},
   "outputs": [],
   "source": []
  }
 ],
 "metadata": {
  "kernelspec": {
   "display_name": "Python 3 (ipykernel)",
   "language": "python",
   "name": "python3"
  },
  "language_info": {
   "codemirror_mode": {
    "name": "ipython",
    "version": 3
   },
   "file_extension": ".py",
   "mimetype": "text/x-python",
   "name": "python",
   "nbconvert_exporter": "python",
   "pygments_lexer": "ipython3",
   "version": "3.10.0"
  }
 },
 "nbformat": 4,
 "nbformat_minor": 5
}
