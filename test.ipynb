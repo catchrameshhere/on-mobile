{
 "cells": [
  {
   "cell_type": "code",
   "execution_count": null,
   "id": "5e4d33e1-a85d-4479-bb9d-530a52d06cd1",
   "metadata": {},
   "outputs": [],
   "source": [
    "print('Hello World')"
   ]
  },
  {
   "cell_type": "code",
   "execution_count": null,
   "id": "c4abdb63-b2c1-4419-af7d-8261ef9cf136",
   "metadata": {},
   "outputs": [],
   "source": [
    "# this is an example of single line comment\n",
    "print('Hello World')"
   ]
  },
  {
   "cell_type": "code",
   "execution_count": null,
   "id": "6b3b48f5-901c-46fb-be9f-ffe98666ea16",
   "metadata": {},
   "outputs": [],
   "source": [
    "''' \n",
    "This is an \n",
    "example of multi line comment \n",
    "'''\n",
    "\n",
    "print('Hello World')"
   ]
  },
  {
   "cell_type": "code",
   "execution_count": null,
   "id": "e7b8e194-9883-4dfb-acba-c59e0a16e878",
   "metadata": {},
   "outputs": [],
   "source": [
    "\"\"\"\n",
    "This is an \n",
    "example of multi line comment \n",
    "\"\"\"\n",
    "\n",
    "print('Hello World')"
   ]
  },
  {
   "cell_type": "code",
   "execution_count": null,
   "id": "38549caa-0b8e-4ae0-88a8-442ff11999c0",
   "metadata": {},
   "outputs": [],
   "source": [
    "age = 25"
   ]
  },
  {
   "cell_type": "code",
   "execution_count": null,
   "id": "63ab0a1b-05b2-4c3f-a986-0b15b376c9e7",
   "metadata": {},
   "outputs": [],
   "source": [
    "age"
   ]
  },
  {
   "cell_type": "code",
   "execution_count": null,
   "id": "ea05e876-e609-47d2-917f-9e68003bd3f4",
   "metadata": {},
   "outputs": [],
   "source": [
    "a = [25,55]\n",
    "type(a)"
   ]
  },
  {
   "cell_type": "code",
   "execution_count": null,
   "id": "bb9f2610-fc74-4536-ae29-852d111364b8",
   "metadata": {},
   "outputs": [],
   "source": [
    "b = 10\n",
    "if(b%2==0):\n",
    "    print(\"It's an even number\")\n",
    "    if(true):\n",
    "         print()\n",
    "    print(\"hello\")\n",
    "else:\n",
    "    print(\"It's an odd number\")"
   ]
  },
  {
   "cell_type": "code",
   "execution_count": null,
   "id": "dd3a4d93-b8b3-47cd-99b4-4a64271fc5f2",
   "metadata": {},
   "outputs": [],
   "source": [
    "b = 10\n",
    "\n",
    "if(b%2==0):\n",
    "    print(\"It's an even number\")\n",
    "    print(\"hello\")\n",
    "else:\n",
    "    print(\"It's an odd number\")\n",
    "\n",
    "a = 155"
   ]
  },
  {
   "cell_type": "code",
   "execution_count": null,
   "id": "7696405f-157f-4aaf-a59b-4e37561b1630",
   "metadata": {},
   "outputs": [],
   "source": [
    "age = 25\n",
    "print(age)"
   ]
  },
  {
   "cell_type": "code",
   "execution_count": null,
   "id": "95cf0345-51e0-4552-bc97-da4233d103cf",
   "metadata": {},
   "outputs": [],
   "source": [
    "HTTP_STATUS_CODE_200 = 200\n",
    "print(HTTP_STATUS_CODE_200)"
   ]
  },
  {
   "cell_type": "code",
   "execution_count": null,
   "id": "375fc338-aeea-4814-8480-849bb3510dde",
   "metadata": {},
   "outputs": [],
   "source": [
    "200ramesh = \"ramesh\"\n",
    "print(200_ramesh)"
   ]
  },
  {
   "cell_type": "code",
   "execution_count": null,
   "id": "b7226f6a-b946-43b7-a74e-0fb2089ada25",
   "metadata": {},
   "outputs": [],
   "source": [
    "Van_Rossum = \"Guido van Rossom\"\n",
    "\n",
    "Prime_Minister\n",
    "PRIME_MINISTER\n",
    "ABC = \"Australian Broadcasting Corporation\"\n",
    "\n",
    "abc = \"Australian Broadcasting Corporation\"\n"
   ]
  },
  {
   "cell_type": "code",
   "execution_count": null,
   "id": "b5bc96e4-60bc-46ca-83ac-95cb6bdd870e",
   "metadata": {},
   "outputs": [],
   "source": [
    "a = 10\n",
    "A = 56\n",
    "print(A)"
   ]
  },
  {
   "cell_type": "code",
   "execution_count": null,
   "id": "8a6a7765-7bcf-4eaf-aa36-04102a8efa0e",
   "metadata": {},
   "outputs": [],
   "source": [
    "~`!@#$%^&*"
   ]
  },
  {
   "cell_type": "code",
   "execution_count": null,
   "id": "6bb0928f-1dee-4c83-8fee-874bda0bfbf1",
   "metadata": {},
   "outputs": [],
   "source": [
    "print(\"the cost of the product = %s\", %(25))"
   ]
  },
  {
   "cell_type": "code",
   "execution_count": null,
   "id": "7f798963-723e-4e78-bfe1-2dc43ac53dc4",
   "metadata": {},
   "outputs": [],
   "source": [
    "age@ = 24"
   ]
  },
  {
   "cell_type": "code",
   "execution_count": null,
   "id": "9418f36f-3560-4199-b639-7786beab6fba",
   "metadata": {},
   "outputs": [],
   "source": [
    "a = 10\n",
    "b = 2\n",
    "print(a/b)\n",
    "print(c)\n"
   ]
  },
  {
   "cell_type": "code",
   "execution_count": null,
   "id": "876594aa-25f7-4d02-87da-5988a880cdb2",
   "metadata": {},
   "outputs": [],
   "source": [
    "a = 10\n",
    "b = 0\n",
    "print(a/b)\n",
    "print(\"test\")"
   ]
  },
  {
   "cell_type": "code",
   "execution_count": null,
   "id": "87468c9a-684e-46f1-ae46-8722689e7404",
   "metadata": {},
   "outputs": [],
   "source": [
    "a = 10\n",
    "print(id(a))\n",
    "a = 20\n",
    "print(id(a))"
   ]
  },
  {
   "cell_type": "code",
   "execution_count": null,
   "id": "fbc5d5ec-1cd3-4e98-b540-356d6966bfda",
   "metadata": {},
   "outputs": [],
   "source": [
    "a = \"ramesh\"\n",
    "print(id(a))\n",
    "a = \"dan\"\n",
    "print(id(a))"
   ]
  },
  {
   "cell_type": "code",
   "execution_count": null,
   "id": "a73c6d02-53d4-46d1-98d0-6975403cc966",
   "metadata": {},
   "outputs": [],
   "source": [
    "b = [1,2]\n",
    "type(b)\n",
    "b.append(3)\n",
    "print(b)\n",
    "type(b)"
   ]
  },
  {
   "cell_type": "code",
   "execution_count": null,
   "id": "15fb56c2-035b-461b-8359-5af79feedfce",
   "metadata": {},
   "outputs": [],
   "source": [
    "b = {'a', 'b', 'c'}\n",
    "id(b)"
   ]
  },
  {
   "cell_type": "code",
   "execution_count": null,
   "id": "a3846863-6d9f-4ac3-9b02-ffbb9cc7c328",
   "metadata": {},
   "outputs": [],
   "source": [
    "a = {'a','b'}\n",
    "type(a)"
   ]
  },
  {
   "cell_type": "code",
   "execution_count": null,
   "id": "3165e0a1-f24c-4e57-a0c3-3a380695e728",
   "metadata": {},
   "outputs": [],
   "source": [
    "def m1():\n",
    "    pass"
   ]
  },
  {
   "cell_type": "code",
   "execution_count": null,
   "id": "f6e94171-9f60-4342-8720-6e9ee8278464",
   "metadata": {},
   "outputs": [],
   "source": [
    "a = '10'\n",
    "b = '20'\n",
    "print(type(a))\n",
    "print(type(b))\n",
    "print(a+b)\n"
   ]
  },
  {
   "cell_type": "code",
   "execution_count": null,
   "id": "c9a928a0-5243-4940-b4a5-a92803ec0e99",
   "metadata": {},
   "outputs": [],
   "source": [
    "a = 10\n",
    "b = 10\n",
    "print(id(a))\n",
    "print(id(b))\n",
    "a = 15\n",
    "print(id(a))\n",
    "print(id(b))"
   ]
  },
  {
   "cell_type": "code",
   "execution_count": null,
   "id": "234d318c-b081-4424-8ff2-93d263ab4b82",
   "metadata": {},
   "outputs": [],
   "source": [
    "a = 10\n",
    "print(a)\n",
    "print('The value of a = ', a)"
   ]
  },
  {
   "cell_type": "code",
   "execution_count": null,
   "id": "5e3b3510-1ff5-45a4-8dd1-b3fd88a75019",
   "metadata": {},
   "outputs": [],
   "source": [
    "a = 10\n",
    "b = 20\n",
    "print(a,b)\n",
    "# print('The value of a = ' , a , ' and value of b = ' , b)\n",
    "# print('The value of a = {} and value of b = {}'.format(a, b))\n",
    "# print('The value of a = {a} and value of b = {b}'.format(a=10, b=5))\n",
    "print('The value of a = {a} and value of b = {b}'.format(b=5, a=10))"
   ]
  },
  {
   "cell_type": "code",
   "execution_count": null,
   "id": "aa1bc1e6-5544-4149-b62f-c32955d4d05a",
   "metadata": {},
   "outputs": [],
   "source": [
    "print('Enter the value of a\\n')\n",
    "a = input()\n",
    "print('The value of a entered is ' , a)"
   ]
  },
  {
   "cell_type": "code",
   "execution_count": null,
   "id": "222c39e0-59eb-44c7-8837-e31e9309462b",
   "metadata": {},
   "outputs": [],
   "source": [
    "print('Hello')\n",
    "# print ('Hello')\n",
    "# print(\"Hello\")\n",
    "# print (\"Hello\")\n",
    "print    (\"Hello\")"
   ]
  },
  {
   "cell_type": "code",
   "execution_count": null,
   "id": "9bc79c27-39d6-436c-88b2-42caa03eb3c5",
   "metadata": {},
   "outputs": [],
   "source": [
    "print('Hello')\n",
    "print('World')"
   ]
  },
  {
   "cell_type": "code",
   "execution_count": null,
   "id": "ea76f043-1a45-4118-952d-3971a29d8988",
   "metadata": {},
   "outputs": [],
   "source": [
    "print('Hello World')"
   ]
  },
  {
   "cell_type": "code",
   "execution_count": null,
   "id": "14791db1-b97d-4e26-989b-af6f4b055937",
   "metadata": {},
   "outputs": [],
   "source": [
    "print('Hello', end=\" \")\n",
    "print('World')"
   ]
  },
  {
   "cell_type": "code",
   "execution_count": null,
   "id": "8acf5e58-6b9e-4b6c-a02d-be324b728af0",
   "metadata": {},
   "outputs": [],
   "source": [
    "print('Hello')\n",
    "print('\\nWorld')"
   ]
  },
  {
   "cell_type": "code",
   "execution_count": null,
   "id": "fd9fe963-0077-4d38-9393-69d629d696b0",
   "metadata": {},
   "outputs": [],
   "source": [
    "id = 10.99\n",
    "name = 'Dan'\n",
    "\n",
    "# print(\"Welcome to the class Mr/Miss % s\" %name)\n",
    "# print(\"The value of a = % d\" %id)\n",
    "\n",
    "# print('Welcome \"% s\", your reg number is % d' %(name, id))\n",
    "print(f'Welcome %s, your reg number is %.2f' %(name, id))\n",
    "# print('Welcome {} , your reg number is {} '.format(name, id))\n",
    "print('The value of a = {x} and value of b = {y}'.format(y=5, x=10))"
   ]
  },
  {
   "cell_type": "code",
   "execution_count": null,
   "id": "93a1e7e3-6fd5-4fbc-84f9-1188f2fc1280",
   "metadata": {},
   "outputs": [],
   "source": [
    "print(\"Enter the value of a - \")\n",
    "a = int(input())\n",
    "print(\"Enter the value of b - \")\n",
    "b = int(input())\n",
    "# result = int(a) + int(b) \n",
    "print(\"Sum of the two numbers is {}\".format(a+b))"
   ]
  },
  {
   "cell_type": "code",
   "execution_count": null,
   "id": "6e56e8a9-14bf-4065-a939-fae8fb7303ce",
   "metadata": {},
   "outputs": [],
   "source": [
    "a = [1, 2, 3]\n",
    "print(id(a))"
   ]
  },
  {
   "cell_type": "code",
   "execution_count": null,
   "id": "345df1dc-c2e3-40bf-a21a-c87f47384955",
   "metadata": {},
   "outputs": [],
   "source": [
    "b = [1,2,3]\n",
    "print(b)\n",
    "type(b)\n",
    "print(id(b))\n",
    "b.append(5)\n",
    "print(b)\n",
    "print(id(b))\n"
   ]
  },
  {
   "cell_type": "code",
   "execution_count": null,
   "id": "bd431b96-2559-48fb-b19d-93b079086bab",
   "metadata": {},
   "outputs": [],
   "source": [
    "a = 10\n",
    "# print(type(a))\n",
    "\n",
    "b = 44.5\n",
    "# print(type(b))\n",
    "\n",
    "c = 10 + 8j\n",
    "# print(type(c))\n",
    "\n",
    "# print(a, b, c)\n",
    "\n",
    "# print(a, end=\", \")\n",
    "# print(b, end=\", \")\n",
    "# print(c)\n",
    "\n",
    "print(\"{}, {}, {}\".format(a,b,c))"
   ]
  },
  {
   "cell_type": "code",
   "execution_count": null,
   "id": "33dc05f8-116c-4608-b48d-51749f470249",
   "metadata": {},
   "outputs": [],
   "source": [
    "2+2"
   ]
  },
  {
   "cell_type": "code",
   "execution_count": null,
   "id": "0bba9925-380d-428c-bd58-e8caaec9037d",
   "metadata": {},
   "outputs": [],
   "source": [
    "print(4+4)"
   ]
  },
  {
   "cell_type": "code",
   "execution_count": null,
   "id": "5903cc50-9aed-4972-a991-f0a99fd9df9c",
   "metadata": {},
   "outputs": [],
   "source": [
    "a = 10\n",
    "b = 25.3\n",
    "name = \"michelle\"\n",
    "\n",
    "print(type(a))\n",
    "print(type(b))\n",
    "print(type(name))"
   ]
  },
  {
   "cell_type": "code",
   "execution_count": null,
   "id": "74b31d5b-e8e1-4d48-9a67-90713c8c00ab",
   "metadata": {},
   "outputs": [],
   "source": [
    "# print(isinstance(a,int))\n",
    "# print(isinstance(b,float))\n",
    "print(isinstance(name,int))"
   ]
  },
  {
   "cell_type": "code",
   "execution_count": null,
   "id": "8771acd1-4d7c-4910-9364-97b23ec68c45",
   "metadata": {},
   "outputs": [],
   "source": [
    "a = 10\n",
    "b = 20\n",
    "print(a,b)"
   ]
  },
  {
   "cell_type": "code",
   "execution_count": null,
   "id": "37feb08c-3d55-43a6-b580-8cfd61b313b5",
   "metadata": {},
   "outputs": [],
   "source": [
    "a, b = 10,30\n",
    "print(a, b)"
   ]
  },
  {
   "cell_type": "code",
   "execution_count": null,
   "id": "887ccae1-74ea-4e95-9698-01abb39f03e9",
   "metadata": {},
   "outputs": [],
   "source": [
    "a, b, c, d, e = 10, 25.36, 'dan',(1,2,3), ['x','y','z']\n",
    "print(a)\n",
    "print(b)\n",
    "print(c)\n",
    "print(d)\n",
    "print(e)\n"
   ]
  },
  {
   "cell_type": "code",
   "execution_count": null,
   "id": "c2702614-fcc4-437f-916e-d96a76557450",
   "metadata": {},
   "outputs": [],
   "source": [
    "x = (1,2,3,'ramesh')\n",
    "print(x)\n"
   ]
  },
  {
   "cell_type": "code",
   "execution_count": null,
   "id": "44e82b35-be97-4844-a5ae-7222f6686f8f",
   "metadata": {},
   "outputs": [],
   "source": [
    "x[3]"
   ]
  },
  {
   "cell_type": "code",
   "execution_count": null,
   "id": "38d85e18-2a44-42d7-8e73-6bd2f8ab9d78",
   "metadata": {},
   "outputs": [],
   "source": [
    "a = 5\n",
    "b = 10\n",
    "print('a = {}, b = {}'.format(a,b) )\n",
    "\n",
    "c = a\n",
    "a = b\n",
    "b = c\n",
    "print('a = {}, b = {}'.format(a,b) )"
   ]
  },
  {
   "cell_type": "code",
   "execution_count": null,
   "id": "59b35990-8924-4480-813d-fcefeb2da249",
   "metadata": {},
   "outputs": [],
   "source": [
    "a = 5\n",
    "b = 10\n",
    "print('a = {}, b = {}'.format(a,b) )\n",
    "\n",
    "a = a - b\n",
    "b = a + b\n",
    "a = b - a\n",
    "print('a = {}, b = {}'.format(a,b) )"
   ]
  },
  {
   "cell_type": "code",
   "execution_count": null,
   "id": "f04190d7-21be-4347-9c64-14807440d15d",
   "metadata": {},
   "outputs": [],
   "source": [
    "a = 5\n",
    "b = 10\n",
    "print('a = {}, b = {}'.format(a,b) )\n",
    "\n",
    "a = a + b\n",
    "b = a - b\n",
    "a = a - b\n",
    "print('a = {}, b = {}'.format(a,b) )"
   ]
  },
  {
   "cell_type": "code",
   "execution_count": null,
   "id": "627c5c53-1659-43bf-8f5a-5ca55f82bc3d",
   "metadata": {},
   "outputs": [],
   "source": [
    "a = 5\n",
    "b = 10\n",
    "print('a = {}, b = {}'.format(a,b) )\n",
    "\n",
    "a, b = b, a\n",
    "print('a = {}, b = {}'.format(a,b) )"
   ]
  },
  {
   "cell_type": "code",
   "execution_count": null,
   "id": "0118b015-9b73-42df-b00f-bae3501c7dbd",
   "metadata": {},
   "outputs": [],
   "source": [
    "a = 'this is a string \"Hello\"'\n",
    "b = 'dan'\n",
    "c = \"this is a string value with double quotes your's\"\n",
    "d = '''this is with 2 single quotes'''\n",
    "e = \"\"\"this is an example or 3 double quotes\"\"\"\n",
    "\n",
    "print(type(e))\n",
    "\n",
    "print(a)\n",
    "print(c)\n"
   ]
  },
  {
   "cell_type": "code",
   "execution_count": null,
   "id": "1f77905e-8c40-4d13-b5f9-6a7b92e0e631",
   "metadata": {},
   "outputs": [],
   "source": [
    "a = 'aaaaaaaaaaaaaaaaa' \\\n",
    "     'bbbbbbbbbbbbbbbbbbbbbbbddddddddddddddddddddddddddddddd' \\\n",
    "     'eeeeuuuuuuuuuuuuuuuuuuuuuuuuuuuueeeeeeeeeeeeeeeeffffffffffffffzzzzzzzzzzzzzzzzzzzzzzzzz'\n",
    "print(a)"
   ]
  },
  {
   "cell_type": "code",
   "execution_count": null,
   "id": "2fc225f1-11a2-4b0d-a618-9068cdbbba1e",
   "metadata": {},
   "outputs": [],
   "source": [
    "a = '''aaaaaaaaaaaaaaaaa\n",
    "bbbbbbbbbbbbbbbbbbbbbbbddddddddddddddddddddddddddddddd\n",
    "eeeeuuuuuuuuuuuuuuuuuuuuuuuuuuuueeeeeeeeeeeeeeeeffffffffffffffzzzzzzzzzzzzzzzzzzzzzzzzz'''\n",
    "print(a)"
   ]
  },
  {
   "cell_type": "code",
   "execution_count": null,
   "id": "9c2ee5e5-2604-4cd0-a8d6-0ff59d780ba7",
   "metadata": {},
   "outputs": [],
   "source": [
    "a = '''\n",
    "{\n",
    " \"cells\": [],\n",
    " \"metadata\": {},\n",
    " \"nbformat\": 4,\n",
    " \"nbformat_minor\": 5\n",
    "}\n",
    "'''\n",
    "print(a)"
   ]
  },
  {
   "cell_type": "code",
   "execution_count": null,
   "id": "7f3a924d-ba9e-425f-b5e1-9808995e8c11",
   "metadata": {},
   "outputs": [
    {
     "name": "stdout",
     "output_type": "stream",
     "text": [
      "a =  (1, 2, 3, 'edureka')\n",
      "b =  [1, 2, 3, 'edureka']\n",
      "c =  {1, 2, 3, 'edureka'}\n",
      "d =  {'fn': 'John', 'ln': 'Rambo'}\n",
      "<class 'tuple'>\n",
      "<class 'list'>\n",
      "<class 'set'>\n",
      "<class 'dict'>\n"
     ]
    }
   ],
   "source": [
    "a = (1,2,3,'edureka')\n",
    "b = [1,2,3,'edureka']\n",
    "c = {1,2,3,'edureka'}\n",
    "d = {'fn':'John', 'ln':'Rambo'}\n",
    "print(\"a = \",a)\n",
    "print(\"b = \",b)\n",
    "print(\"c = \",c)\n",
    "print(\"d = \",d)\n",
    "\n",
    "print(type(a))\n",
    "print(type(b))\n",
    "print(type(c))\n",
    "print(type(d))"
   ]
  },
  {
   "cell_type": "code",
   "execution_count": null,
   "id": "f55fb28d-2adb-4304-ac47-d7984e4b8b77",
   "metadata": {},
   "outputs": [],
   "source": []
  },
  {
   "cell_type": "code",
   "execution_count": null,
   "id": "2e73d958-90a4-47a5-ae5d-49fbe3280548",
   "metadata": {},
   "outputs": [],
   "source": []
  }
 ],
 "metadata": {
  "kernelspec": {
   "display_name": "Python 3 (ipykernel)",
   "language": "python",
   "name": "python3"
  },
  "language_info": {
   "codemirror_mode": {
    "name": "ipython",
    "version": 3
   },
   "file_extension": ".py",
   "mimetype": "text/x-python",
   "name": "python",
   "nbconvert_exporter": "python",
   "pygments_lexer": "ipython3",
   "version": "3.10.0"
  }
 },
 "nbformat": 4,
 "nbformat_minor": 5
}
