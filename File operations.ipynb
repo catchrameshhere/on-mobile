{
 "cells": [
  {
   "cell_type": "code",
   "execution_count": 38,
   "id": "66bc910c-0ede-4844-8869-a61e3af33fd4",
   "metadata": {},
   "outputs": [
    {
     "name": "stdout",
     "output_type": "stream",
     "text": [
      "ramesh\n"
     ]
    }
   ],
   "source": [
    "file = open(\"abc.txt\", 'w+')\n",
    "\n",
    "file.write(\"ramesh\")\n",
    "\n",
    "lines = file.readlines()\n",
    "for line in lines:\n",
    "    print(line.strip())\n",
    "\n",
    "# print(\"from readline implementation\")\n",
    "# while(True):\n",
    "#     line = file.readline()\n",
    "    \n",
    "#     if not line:\n",
    "#         break\n",
    "#     else:\n",
    "#         print(line.strip())\n",
    "\n",
    "# print('done')"
   ]
  },
  {
   "cell_type": "code",
   "execution_count": 40,
   "id": "2e899304-a1a5-40a4-ba10-ca6db0635b64",
   "metadata": {},
   "outputs": [
    {
     "name": "stdout",
     "output_type": "stream",
     "text": [
      "['ramesh\\n', 'how\\n', 'r\\n', 'you\\n']\n"
     ]
    }
   ],
   "source": [
    "with open(\"abc.txt\", 'r+') as f:\n",
    "    print(f.readlines())\n",
    "    # lines = f.readlines()\n",
    "    # for line in lines:\n",
    "    #     print(line.strip())"
   ]
  },
  {
   "cell_type": "code",
   "execution_count": 48,
   "id": "39fb51d0-c815-42f5-b2b5-e50d7bd4921a",
   "metadata": {},
   "outputs": [
    {
     "name": "stdout",
     "output_type": "stream",
     "text": [
      "ï»¿servername,username,password\n",
      "192.168.1.1,s1-admin,1111\n",
      "192.168.1.2,s2-admin,2222\n",
      "192.168.1.3,s3-admin,3333\n",
      "192.168.1.4,s4-admin,4444\n",
      "\n"
     ]
    }
   ],
   "source": [
    "with open(\"servers.csv\", 'r') as csvfile:\n",
    "    # lines = csvfile.readlines()\n",
    "    # for line in lines:\n",
    "    #     print(line.strip())\n",
    "    \n",
    "    print(csvfile.read())"
   ]
  },
  {
   "cell_type": "code",
   "execution_count": null,
   "id": "e9bdba7c-2009-439e-b563-ba2d5218ce2f",
   "metadata": {},
   "outputs": [],
   "source": [
    "# start from yaml file and os operations on file"
   ]
  }
 ],
 "metadata": {
  "kernelspec": {
   "display_name": "Python 3 (ipykernel)",
   "language": "python",
   "name": "python3"
  },
  "language_info": {
   "codemirror_mode": {
    "name": "ipython",
    "version": 3
   },
   "file_extension": ".py",
   "mimetype": "text/x-python",
   "name": "python",
   "nbconvert_exporter": "python",
   "pygments_lexer": "ipython3",
   "version": "3.10.0"
  }
 },
 "nbformat": 4,
 "nbformat_minor": 5
}
