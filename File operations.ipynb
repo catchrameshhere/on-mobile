{
 "cells": [
  {
   "cell_type": "code",
   "execution_count": null,
   "id": "66bc910c-0ede-4844-8869-a61e3af33fd4",
   "metadata": {},
   "outputs": [],
   "source": [
    "file = open(\"abc.txt\", 'a+')\n",
    "\n",
    "file.write(\"ramesh\")\n",
    "\n",
    "lines = file.readlines()\n",
    "for line in lines:\n",
    "    print(line.strip())\n",
    "\n",
    "# print(\"from readline implementation\")\n",
    "# while(True):\n",
    "#     line = file.readline()\n",
    "    \n",
    "#     if not line:\n",
    "#         break\n",
    "#     else:\n",
    "#         print(line.strip())\n",
    "\n",
    "# print('done')"
   ]
  },
  {
   "cell_type": "code",
   "execution_count": null,
   "id": "d35107f9-b116-42f7-9200-0c23e76113a8",
   "metadata": {},
   "outputs": [],
   "source": []
  },
  {
   "cell_type": "code",
   "execution_count": null,
   "id": "2e899304-a1a5-40a4-ba10-ca6db0635b64",
   "metadata": {},
   "outputs": [],
   "source": [
    "with open(\"abc.txt\", 'r+') as f:\n",
    "    print(f.readlines())\n",
    "    # lines = f.readlines()\n",
    "    # for line in lines:\n",
    "    #     print(line.strip())"
   ]
  },
  {
   "cell_type": "code",
   "execution_count": null,
   "id": "39fb51d0-c815-42f5-b2b5-e50d7bd4921a",
   "metadata": {},
   "outputs": [],
   "source": [
    "with open(\"servers.csv\", 'r') as csvfile:\n",
    "    # lines = csvfile.readlines()\n",
    "    # for line in lines:\n",
    "    #     print(line.strip())\n",
    "    \n",
    "    print(csvfile.read())"
   ]
  },
  {
   "cell_type": "code",
   "execution_count": null,
   "id": "e9bdba7c-2009-439e-b563-ba2d5218ce2f",
   "metadata": {},
   "outputs": [],
   "source": [
    "# start from yaml file and os operations on file"
   ]
  },
  {
   "cell_type": "code",
   "execution_count": null,
   "id": "7f17103a-6fe7-47f9-bae3-9a416896d091",
   "metadata": {},
   "outputs": [],
   "source": [
    "import re\n",
    "\n",
    "file = open(\"abc.txt\", 'r')\n",
    "\n",
    "lines = file.readlines()\n",
    "\n",
    "# for line in lines:\n",
    "#     print(line.rstrip())\n",
    "\n",
    "\n",
    "while(True):\n",
    "    for line in lines:\n",
    "        if re.search('ERROR', line):\n",
    "            for i in range(10):\n",
    "                print(line.rstrip())\n",
    "        elif not line:\n",
    "            break\n",
    "        else:\n",
    "            pass\n",
    "print('done')\n",
    "\n",
    "file.close()"
   ]
  },
  {
   "cell_type": "code",
   "execution_count": null,
   "id": "789412c1-314f-4614-98db-de6382007ad1",
   "metadata": {},
   "outputs": [],
   "source": [
    "import re\n",
    "\n",
    "# Reading the file 1 and adding the numbers to a list\n",
    "file = open(\"1.txt\", 'r')\n",
    "lines = file.readlines()\n",
    "a = []\n",
    "for line in lines:\n",
    "file.close()\n",
    "\n",
    "# Reading the file 2 and checking for file number one entry\n",
    "\n",
    "file2 = open(\"2.txt\", 'r')\n",
    "lines = file2.readlines()\n",
    "\n",
    "for line in lines:\n",
    "    for i in a:\n",
    "        print(\"mobile number used is - \", i)\n",
    "        if re.search(i, line):\n",
    "            print(\"Entry-1 : \" , line.strip())\n",
    "        else:\n",
    "            print(\"Entry-2 : \" , line.strip())\n",
    "            \n"
   ]
  },
  {
   "cell_type": "code",
   "execution_count": null,
   "id": "e152cb72-69bf-41ad-ad2c-15c5918a0942",
   "metadata": {},
   "outputs": [],
   "source": [
    "import re\n",
    "\n",
    "with open(\"test.log\", \"r\") as f:\n",
    "    lines = f.readlines()\n",
    "    with open(\"result.txt\", \"a\") as out:\n",
    "        for line in lines:\n",
    "            if re.search(\"1234567890\", line):\n",
    "                out.write(line.split(\"[\")[2][:-1]+\"\\n\")\n",
    "            elif not line:\n",
    "               break\n",
    "            else:\n",
    "               pass\n",
    "    out.close()\n",
    "f.close()"
   ]
  },
  {
   "cell_type": "code",
   "execution_count": null,
   "id": "28737877-a2a3-4538-927b-7c180d122f8c",
   "metadata": {},
   "outputs": [],
   "source": [
    "str = \"[2021-09-21 11:31:24,969] INFO182177[http-nio-3456-exec-1][] - number is 1234567890\"\n",
    "words = str.split(\"[\")[2][:-1]\n",
    "print(words)\n",
    "\n",
    "\n",
    "# print(words[2][:-1])\n",
    "# print(words[2].split(\"[\"))"
   ]
  },
  {
   "cell_type": "code",
   "execution_count": null,
   "id": "fa668684-bcbd-40d0-9e2e-f95a6649fb09",
   "metadata": {},
   "outputs": [],
   "source": [
    "# Final Rahul and Rashmi's requirement solution\n",
    "\n",
    "with open(\"test.log\", \"r\") as f:\n",
    "    lines = f.readlines()\n",
    "    with open(\"rahul.txt\", \"a\") as final:\n",
    "        for line in lines:\n",
    "            words = line.split(\"[\")[2][:-1]+\"\\n\"\n",
    "            final.write(words)\n",
    "    final.close()\n",
    "f.close()\n",
    "\n",
    "print(\"******secondary operation*****\")\n",
    "\n",
    "unique_list = []\n",
    "with open(\"rahul.txt\", 'r') as file:\n",
    "    lines = file.readlines()\n",
    "    for line in lines:\n",
    "        unique_list.append(line.strip())\n",
    "file.close\n",
    "\n",
    "final_set = set(unique_list)\n",
    "print(final_set)"
   ]
  },
  {
   "cell_type": "code",
   "execution_count": 38,
   "id": "52856a3e-f9c7-4755-84ef-8f330e152b20",
   "metadata": {},
   "outputs": [
    {
     "name": "stdout",
     "output_type": "stream",
     "text": [
      "<built-in method __dir__ of builtin_function_or_method object at 0x00000220335A88B0>\n"
     ]
    }
   ],
   "source": [
    "import os\n",
    "\n",
    "dir(os.chmod)\n",
    "# print(os.chmod.__doc__)\n",
    "print(os.chmod.__dir__)\n",
    "\n"
   ]
  },
  {
   "cell_type": "code",
   "execution_count": null,
   "id": "0a72ca78-01a8-40b9-8ec5-7134f604ad6a",
   "metadata": {},
   "outputs": [],
   "source": []
  }
 ],
 "metadata": {
  "kernelspec": {
   "display_name": "Python 3 (ipykernel)",
   "language": "python",
   "name": "python3"
  },
  "language_info": {
   "codemirror_mode": {
    "name": "ipython",
    "version": 3
   },
   "file_extension": ".py",
   "mimetype": "text/x-python",
   "name": "python",
   "nbconvert_exporter": "python",
   "pygments_lexer": "ipython3",
   "version": "3.10.0"
  }
 },
 "nbformat": 4,
 "nbformat_minor": 5
}
