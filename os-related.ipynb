{
 "cells": [
  {
   "cell_type": "code",
   "execution_count": 13,
   "id": "1cf14265-6288-4797-bcfb-91f907f59670",
   "metadata": {},
   "outputs": [
    {
     "name": "stdout",
     "output_type": "stream",
     "text": [
      "created time =  1663737299.521744\n",
      "modified time =  1663737310.189552\n",
      "10.667808055877686\n"
     ]
    }
   ],
   "source": [
    "import os\n",
    "import pathlib\n",
    "import datetime\n",
    "\n",
    "\n",
    "\n",
    "# dir(datetime.timedelta)\n",
    "\n",
    "file = pathlib.Path(\"1.txt\")\n",
    "\n",
    "created_time = file.stat().st_ctime\n",
    "modified_time = file.stat().st_mtime\n",
    "\n",
    "print(\"created time = \", created_time)\n",
    "print(\"modified time = \", modified_time)\n",
    "# print(file.stat())\n",
    "\n",
    "diff = modified_time - created_time\n",
    "print(diff)\n",
    "\n",
    "# dir(pathlib.Path)"
   ]
  },
  {
   "cell_type": "code",
   "execution_count": 23,
   "id": "03ae3d6d-c7ad-49a5-a19a-90ab9034e3f4",
   "metadata": {},
   "outputs": [
    {
     "name": "stdout",
     "output_type": "stream",
     "text": [
      "Today's date =  2022-09-21\n",
      "Today + 8 days =  2022-10-06\n"
     ]
    }
   ],
   "source": [
    "from datetime import datetime, timedelta, date\n",
    "\n",
    "print(\"Today's date = \", date.today())\n",
    "print(\"Today + 8 days = \", date.today()+timedelta(days=15))\n",
    "\n",
    "\n"
   ]
  },
  {
   "cell_type": "code",
   "execution_count": null,
   "id": "cbdccf45-cc05-4731-bd91-69111797c970",
   "metadata": {},
   "outputs": [],
   "source": []
  }
 ],
 "metadata": {
  "kernelspec": {
   "display_name": "Python 3 (ipykernel)",
   "language": "python",
   "name": "python3"
  },
  "language_info": {
   "codemirror_mode": {
    "name": "ipython",
    "version": 3
   },
   "file_extension": ".py",
   "mimetype": "text/x-python",
   "name": "python",
   "nbconvert_exporter": "python",
   "pygments_lexer": "ipython3",
   "version": "3.10.0"
  }
 },
 "nbformat": 4,
 "nbformat_minor": 5
}
