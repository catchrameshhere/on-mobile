{
 "cells": [
  {
   "cell_type": "code",
   "execution_count": null,
   "id": "fe1060a2-2a9d-443b-b017-994f927a9a93",
   "metadata": {},
   "outputs": [],
   "source": [
    "# if statement\n",
    "a = 6\n",
    "print(\"given number is - \", a)\n",
    "\n",
    "if(a%2==0):\n",
    "    print(\"the given number is a even number\")\n",
    "\n",
    "print(\"done\")\n"
   ]
  },
  {
   "cell_type": "code",
   "execution_count": null,
   "id": "954562b2-1da0-42cb-92bd-2384a76e985e",
   "metadata": {},
   "outputs": [],
   "source": [
    "def num_check():\n",
    "    a = 6\n",
    "    print(\"given number is - \", a)\n",
    "\n",
    "    if(a%2==0):\n",
    "        print(\"the given number is a even number\")\n",
    "        \n",
    "    print(\"done\")\n",
    "\n",
    "\n",
    "num_check()"
   ]
  },
  {
   "cell_type": "code",
   "execution_count": null,
   "id": "f3596131-66d0-4eba-859c-aac0918dfd91",
   "metadata": {},
   "outputs": [],
   "source": [
    "#with input statement\n",
    "\n",
    "def num_check(num):\n",
    "    print(\"given number is - \", num)\n",
    "    if (num%2) == 0:\n",
    "        print(\"the given number is a even number\")\n",
    "    print(\"done\")\n",
    "\n",
    "\n",
    "x = int(input('Enter a number - '))\n",
    "num_check(x)"
   ]
  },
  {
   "cell_type": "code",
   "execution_count": null,
   "id": "9baec68e-8bcc-4e37-a01b-7f8a1c12c27f",
   "metadata": {},
   "outputs": [],
   "source": [
    "#if-else\n",
    "\n",
    "def num_check(num):\n",
    "    print('Given number is - ', num)\n",
    "    if (num%2) == 0:\n",
    "        print('The given number is a even number')\n",
    "    else:\n",
    "        print('The given number is odd number')\n",
    "    print('done')\n",
    "\n",
    "\n",
    "x = int(input('Enter a number - '))\n",
    "num_check(x)"
   ]
  },
  {
   "cell_type": "code",
   "execution_count": null,
   "id": "4a02fecf-18e0-4ba5-b104-76b058e7b1a7",
   "metadata": {},
   "outputs": [],
   "source": [
    "#elif ==> else if\n",
    "\n",
    "def num_check(num):\n",
    "    print('Given number is - ', num)\n",
    "    \n",
    "    if(num<0):\n",
    "        print(\"It's a negative number\")\n",
    "    elif(num==0):\n",
    "        print(\"It's neither an even number nor an odd number\")\n",
    "    elif (num%2) == 0:\n",
    "        print('The given number is a even number')\n",
    "    else:\n",
    "        print('The given number is odd number')\n",
    "        \n",
    "    print('done')\n",
    "\n",
    "\n",
    "x = int(input('Enter a number - '))\n",
    "num_check(x)"
   ]
  },
  {
   "cell_type": "code",
   "execution_count": null,
   "id": "64cfd0f7-7992-4ac2-b5ca-e6c2151d76cd",
   "metadata": {},
   "outputs": [],
   "source": [
    "#while with break\n",
    "\n",
    "while True:\n",
    "    print('Hello there')\n",
    "    break\n",
    "print('done')"
   ]
  },
  {
   "cell_type": "code",
   "execution_count": null,
   "id": "5c63ce9b-4600-417f-bba1-837b0b90143a",
   "metadata": {},
   "outputs": [],
   "source": [
    "#while without break and controlling the flow\n",
    "\n",
    "a = 1\n",
    "while a<=10:\n",
    "    print('the value of a is - ', a)\n",
    "    a = a + 1\n",
    "print('done')"
   ]
  },
  {
   "cell_type": "code",
   "execution_count": null,
   "id": "af9ed933-ef26-4444-afa5-b4c18ecaa437",
   "metadata": {},
   "outputs": [],
   "source": [
    "#while with 0 or 1 ==> avoid this kind of programming\n",
    "# 0 ==> false\n",
    "# 1 ==> true\n",
    "\n",
    "while 1:\n",
    "    print('Hello there')\n",
    "    break\n",
    "print('done')"
   ]
  },
  {
   "cell_type": "code",
   "execution_count": null,
   "id": "80a15024-77b8-4274-a946-4e5a3075c625",
   "metadata": {},
   "outputs": [],
   "source": [
    "while(True):\n",
    "    x = input('Enter the number')\n",
    "    print('You have entered - ', x)"
   ]
  },
  {
   "cell_type": "code",
   "execution_count": null,
   "id": "9022ea25-e4fc-4f68-8f54-08c30755efa3",
   "metadata": {},
   "outputs": [],
   "source": [
    "# for loop\n",
    "for x in range(10):\n",
    "    print('x = ',x)"
   ]
  },
  {
   "cell_type": "code",
   "execution_count": null,
   "id": "9a55b1f7-bc4f-46f9-b3c0-936ccb13d58a",
   "metadata": {},
   "outputs": [],
   "source": [
    "# for loop\n",
    "for x in range(10+1):\n",
    "    print('x = ',x)"
   ]
  },
  {
   "cell_type": "code",
   "execution_count": null,
   "id": "50b7e907-ac9c-4e64-b455-a7ca9aeb26af",
   "metadata": {},
   "outputs": [],
   "source": [
    "# for loop\n",
    "for x in range(11):\n",
    "    print('x = ',x)"
   ]
  },
  {
   "cell_type": "code",
   "execution_count": null,
   "id": "8be1e112-6c76-4844-9d73-555582767686",
   "metadata": {},
   "outputs": [],
   "source": [
    "# for loop\n",
    "for x in range(1, 11):\n",
    "    print('x = ',x)"
   ]
  },
  {
   "cell_type": "code",
   "execution_count": null,
   "id": "44282e29-21f8-4629-b3e8-6f29c17ae863",
   "metadata": {},
   "outputs": [],
   "source": [
    "# for loop\n",
    "for x in range(1, 11, 2):\n",
    "    print('x = ',x)"
   ]
  },
  {
   "cell_type": "code",
   "execution_count": null,
   "id": "a1382e3c-0249-46fc-9a4e-e54d49e56d3b",
   "metadata": {},
   "outputs": [],
   "source": [
    "# for loop\n",
    "for x in range(2, 11, 2):\n",
    "    print('x = ',x)"
   ]
  },
  {
   "cell_type": "code",
   "execution_count": null,
   "id": "b7127312-270c-4b83-a93a-c698bbb92c7b",
   "metadata": {},
   "outputs": [],
   "source": [
    "# for loop\n",
    "for x in range(1, 31, 4):\n",
    "    print('x = ',x)"
   ]
  },
  {
   "cell_type": "code",
   "execution_count": null,
   "id": "a5178895-3f8e-4922-8cd5-f481b6f5ac86",
   "metadata": {},
   "outputs": [],
   "source": [
    "x = int(input('Enter the range till you want to print the even numbers starting from 2 - '))\n",
    "for i in range(2, x+1, 2):\n",
    "    print(i, end=', ')"
   ]
  },
  {
   "cell_type": "code",
   "execution_count": null,
   "id": "cc95d37a-129a-4147-9bbc-c068adc556f1",
   "metadata": {},
   "outputs": [],
   "source": [
    "a = int(input('Enter the number - '))\n",
    "for i in range(1, 11):\n",
    "    print('{} * {} = {}'.format(a, i, a*i))"
   ]
  },
  {
   "cell_type": "code",
   "execution_count": null,
   "id": "a4387456-2d91-4ba9-ba42-fdceff01b4ee",
   "metadata": {},
   "outputs": [],
   "source": [
    "a = int(input('Enter the number to calculate the power for - '))\n",
    "for i in range(1, 11):\n",
    "    print('{} power {} = {}'.format(a, i, a**i))"
   ]
  },
  {
   "cell_type": "code",
   "execution_count": null,
   "id": "ab307997-0c02-4185-ada3-e2fd90b547fa",
   "metadata": {},
   "outputs": [],
   "source": [
    "# String\n",
    "for char in 'ramesh':\n",
    "    print(char, end=', ')"
   ]
  },
  {
   "cell_type": "code",
   "execution_count": null,
   "id": "53e30966-492c-4a5d-bcdd-1b3b0db3e171",
   "metadata": {},
   "outputs": [],
   "source": [
    "#tuple \n",
    "for x in (44,55,66):\n",
    "    print(x)"
   ]
  },
  {
   "cell_type": "code",
   "execution_count": null,
   "id": "7e272651-5928-42a0-9452-6895abdbdd31",
   "metadata": {},
   "outputs": [],
   "source": [
    "# tuple\n",
    "a = (44,55,66)\n",
    "for x in a:\n",
    "    print(x)"
   ]
  },
  {
   "cell_type": "code",
   "execution_count": null,
   "id": "3383cdd1-4773-4338-8271-281090a26d4d",
   "metadata": {},
   "outputs": [],
   "source": [
    "# list\n",
    "a = [44,55,66]\n",
    "for x in a:\n",
    "    print(x)"
   ]
  },
  {
   "cell_type": "code",
   "execution_count": null,
   "id": "edb36e06-1923-4b40-8ead-76c6a4415aee",
   "metadata": {},
   "outputs": [],
   "source": [
    "# set\n",
    "a = {44,55,66}\n",
    "for x in a:\n",
    "    print(x)"
   ]
  },
  {
   "cell_type": "code",
   "execution_count": null,
   "id": "18d971f0-e686-4458-85b2-6071400fe12d",
   "metadata": {},
   "outputs": [],
   "source": [
    "# dict\n",
    "a = {'fn':'John', 'ln':'Rambo', 'mn':'9886098860', 'email':'rambo@gmail.com'}\n",
    "for x in a:\n",
    "    # print(x) #prints keys ==> fn, ln, mn, email\n",
    "    # print(a.get(x)) #prints the value\n",
    "    print('{} = {}'.format(x, a.get(x)))"
   ]
  },
  {
   "cell_type": "code",
   "execution_count": null,
   "id": "cc395935-cbcd-4825-976a-8aa204153e86",
   "metadata": {},
   "outputs": [],
   "source": [
    "# dict\n",
    "# s1 = {'ip':'192.168.1.1', 'un':'admin', 'password':'s11111'}\n",
    "# s2 = {'ip':'192.168.1.2', 'un':'admin', 'password':'s22222'}\n",
    "\n",
    "servers = {\n",
    "    's1': {'ip':'192.168.1.1', 'un':'admin', 'password':'s11111'},\n",
    "    's2': {'ip':'192.168.1.2', 'un':'admin', 'password':'s22222'},\n",
    "    's3': {'ip':'192.168.1.3', 'un':'admin', 'password':'s33333'},\n",
    "    's4': {'ip':'192.168.1.4', 'un':'admin', 'password':'s44444'}\n",
    "    }\n",
    "\n",
    "a = input(\"Enter the value of the server - \")\n",
    "server = servers.get(a)\n",
    "\n",
    "for x in server:\n",
    "    # print(x) #prints keys ==> fn, ln, mn, email\n",
    "    # print(a.get(x)) #prints the value\n",
    "    print('{} = {}'.format(x, server.get(x)))"
   ]
  },
  {
   "cell_type": "code",
   "execution_count": null,
   "id": "377d6e65-1b54-4ee1-94e9-a7d2c568c1ac",
   "metadata": {},
   "outputs": [],
   "source": [
    "servers = {\n",
    "    's1': {'ip':'192.168.1.1', 'un':'admin', 'password':'s11111'},\n",
    "    's2': {'ip':'192.168.1.2', 'un':'admin', 'password':'s22222'},\n",
    "    's3': {'ip':'192.168.1.3', 'un':'admin', 'password':'s33333'},\n",
    "    's4': {'ip':'192.168.1.4', 'un':'admin', 'password':'s44444'}\n",
    "    }\n",
    "\n",
    "print(servers)"
   ]
  },
  {
   "cell_type": "code",
   "execution_count": null,
   "id": "13a3c83d-2f96-4954-9c65-5d9be9e488b1",
   "metadata": {},
   "outputs": [],
   "source": [
    "#for break\n",
    "\n",
    "for x in range(1,101):\n",
    "    print('x = ', x)\n",
    "    if x==9:\n",
    "        break\n",
    "\n",
    "print('done')"
   ]
  },
  {
   "cell_type": "code",
   "execution_count": null,
   "id": "765599cc-8422-4134-b96d-7a8b4d1d9957",
   "metadata": {},
   "outputs": [],
   "source": [
    "#for continue\n",
    "\n",
    "for x in range(1,21):\n",
    "    if x%2==1:\n",
    "        print('x = ', x)\n",
    "    else:\n",
    "        continue\n",
    "\n",
    "print('done')"
   ]
  },
  {
   "cell_type": "code",
   "execution_count": null,
   "id": "7b8402c0-b41d-46ed-981c-25196c4faf5c",
   "metadata": {},
   "outputs": [],
   "source": [
    "for x in range(16,0,-1):\n",
    "    print('x = ',x)"
   ]
  },
  {
   "cell_type": "code",
   "execution_count": null,
   "id": "1b7b86bf-af9c-4231-b44d-8ddcdda226a2",
   "metadata": {},
   "outputs": [],
   "source": [
    "while(True):\n",
    "    for x in range(11):\n",
    "        print('x = ',x)\n",
    "    break"
   ]
  },
  {
   "cell_type": "code",
   "execution_count": null,
   "id": "af277de4-d1fd-497f-aa19-1bd179c2865f",
   "metadata": {},
   "outputs": [],
   "source": [
    "for i in range(1,6):\n",
    "    for x in range(10):\n",
    "        print('{} * {} = {}'.format(i, x, i*x ))\n",
    "    print()"
   ]
  },
  {
   "cell_type": "code",
   "execution_count": null,
   "id": "2490f80b-143d-42d3-9496-9c6978e1a6b1",
   "metadata": {},
   "outputs": [],
   "source": [
    "for i in range(1,6):\n",
    "    for x in range(1,i+1):\n",
    "        print('{} * {} = {}'.format(i, x, i*x ))\n",
    "    print()"
   ]
  },
  {
   "cell_type": "code",
   "execution_count": null,
   "id": "73860d62-ac72-483f-b275-a66267954f29",
   "metadata": {},
   "outputs": [],
   "source": [
    "\n",
    "a = 10\n",
    "for i in range(1,a+1):\n",
    "    for x in range(a-i,0,-1):\n",
    "        print(' ',end='')\n",
    "    print('* ' * i)\n"
   ]
  },
  {
   "cell_type": "code",
   "execution_count": null,
   "id": "e451cb79-16dd-439b-8bea-1801ff5db7b5",
   "metadata": {},
   "outputs": [],
   "source": [
    "def m1():\n",
    "    i = 1\n",
    "    while(True):\n",
    "        print('i = ', i)\n",
    "        if i==10:\n",
    "            break\n",
    "        i += 1\n",
    "    print('done')\n",
    "    \n",
    "def m2\n",
    "\n",
    "\n",
    "\n",
    "\n",
    "m1()"
   ]
  },
  {
   "cell_type": "code",
   "execution_count": null,
   "id": "e3524430-c038-4613-9a3c-d2a07046da53",
   "metadata": {},
   "outputs": [],
   "source": [
    "i = 1\n",
    "print(i)\n",
    "while (i<=10):\n",
    "    print(i)\n",
    "    if i%2 == 0:\n",
    "        print('i = ', i)\n",
    "    else:\n",
    "        continue\n",
    "    i += 1\n",
    "print('done')"
   ]
  },
  {
   "cell_type": "code",
   "execution_count": null,
   "id": "bcd1e24f-5bc9-49a8-99af-67e2418df1b6",
   "metadata": {},
   "outputs": [],
   "source": [
    "# match\n",
    "def printDay(day):\n",
    "    match day:\n",
    "        case 'mon':\n",
    "            print('Monday blues')\n",
    "        case 'tue':\n",
    "            print('its tuesday')\n",
    "        case 'wed':\n",
    "            print('watchout for online deals')\n",
    "        case _:\n",
    "            print('not applicable')\n",
    "\n",
    "printDay('asdf')"
   ]
  },
  {
   "cell_type": "code",
   "execution_count": 5,
   "id": "977381ec-073b-4899-8bde-71ea85b7c020",
   "metadata": {},
   "outputs": [
    {
     "name": "stdout",
     "output_type": "stream",
     "text": [
      "Service level - 1\n"
     ]
    }
   ],
   "source": [
    "def m1(user_data: dict):\n",
    "    match(user_data):\n",
    "        case {'subscription': _, 'msg_info': 'info'}:\n",
    "            print('Service level - 1')\n",
    "        case {'subscription': 'free', 'msg_info': 'error'}:\n",
    "            print('Service level - 2')\n",
    "        case {'subscription': 'premium', 'msg_info': 'error'}:\n",
    "            print('Service level - 3')\n",
    "\n",
    "\n",
    "d1 = {'subscription': 'free', 'msg_info': 'info'}\n",
    "m1(d1)"
   ]
  },
  {
   "cell_type": "code",
   "execution_count": null,
   "id": "93b83e31-dff0-4cbc-a8a1-3814af598aa8",
   "metadata": {},
   "outputs": [],
   "source": []
  },
  {
   "cell_type": "code",
   "execution_count": null,
   "id": "1f75dc78-1a98-4600-b1eb-712dee2b72da",
   "metadata": {},
   "outputs": [],
   "source": []
  }
 ],
 "metadata": {
  "kernelspec": {
   "display_name": "Python 3 (ipykernel)",
   "language": "python",
   "name": "python3"
  },
  "language_info": {
   "codemirror_mode": {
    "name": "ipython",
    "version": 3
   },
   "file_extension": ".py",
   "mimetype": "text/x-python",
   "name": "python",
   "nbconvert_exporter": "python",
   "pygments_lexer": "ipython3",
   "version": "3.10.0"
  }
 },
 "nbformat": 4,
 "nbformat_minor": 5
}
